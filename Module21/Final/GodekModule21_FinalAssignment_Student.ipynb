{
 "cells": [
  {
   "cell_type": "markdown",
   "id": "582c6d10",
   "metadata": {
    "id": "582c6d10"
   },
   "source": [
    "# Module 21 Final Assignment: Implementing the K-Means Algorithm and Reinforcement Learning Algorithm\n",
    "\n",
    "\n",
    "## Learning Outcomes Addressed:\n",
    "<li>2. Implement k-means using Scikit-learn.</li>\n",
    "<li>5. Implement the Quality matrix and the Bellman equation.</li>\n",
    "<li>6. Implement the fundamental steps of reinforcement learning.</li>\n",
    "\n",
    "## Assignment Overview\n",
    "\n",
    "In the first part of this assignment, you will be implementing the k-means classification algorithm on the Titanic dataset to try to predict if a passenger survived or not. In the second part of the assignment, you will be implementing a reinforcement learning algorithm to help a robot navigate in several rooms."
   ]
  },
  {
   "cell_type": "markdown",
   "id": "fca7ea19",
   "metadata": {
    "id": "fca7ea19"
   },
   "source": [
    "## Part 1: K-Means Algorithm\n",
    "\n",
    "### The Titanic Dataset\n",
    "\n",
    "The Titanic was a British passenger liner which sank in the North Atlantic Ocean on April 15, 1912 after striking an iceberg during her maiden voyage from Southampton, UK to New York City. You will be using a dataset for this part of the assignment that has demographic information about each passenger and indicates whether or not the passenger survived the disaster:\n",
    "\n",
    "<li>PassengerId: Unique Id of passenger</li>\n",
    "<li>Survived: If the passenger survived (0-No, 1-Yes)</li>\n",
    "<li>Pclass: Passenger Class (1=1st, 2=2nd, 3=3rd)</li>\n",
    "<li>Name: Name of the passenger</li>\n",
    "<li>Sex: Male/Female</li>\n",
    "<li>Age: Passenger age in years</li>\n",
    "<li>SibSp: Number of siblings/spouses aboard</li>\n",
    "<li>Parch: Number of parents/children aboard</li>\n",
    "<li>Ticket: Ticket Number</li>\n",
    "<li>Fare: Passenger Fare</li>\n",
    "<li>Cabin: Passenger Fare</li>\n",
    "<li>Embarked: Port of Embarkation (C=Cherbourg, Q=Queenstown, S=Southampton)</li>\n",
    "\n",
    "Reference\n",
    "\n",
    "Kaggle Inc. “Titanic - Machine Learning from Disaster.” Kaggle. 2022. https://www.kaggle.com/c/titanic. \n",
    "\n",
    "To start the assignment, create a folder called `data` and download the two CSV data files: test.csv and train.csv."
   ]
  },
  {
   "cell_type": "markdown",
   "id": "08d9dfa8",
   "metadata": {
    "id": "08d9dfa8"
   },
   "source": [
    "## Question 1\n",
    "\n",
    "Using pandas, complete the code in the cell below to load the data from the CSV files into the `train_df` and `test_df` *dataframes*."
   ]
  },
  {
   "cell_type": "code",
   "execution_count": 1,
   "id": "2c378822",
   "metadata": {
    "id": "2c378822"
   },
   "outputs": [],
   "source": [
    "#Question 1:\n",
    "\n",
    "import pandas as pd\n",
    "import numpy as np\n",
    "\n",
    "train_df = pd.read_csv(r\"C:\\Users\\markg\\Data Engineering\\Module21\\Final\\data\\train.csv\")\n",
    "test_df = pd.read_csv(r\"C:\\Users\\markg\\Data Engineering\\Module21\\Final\\data\\test.csv\")"
   ]
  },
  {
   "cell_type": "markdown",
   "id": "c4d309b7",
   "metadata": {
    "id": "c4d309b7"
   },
   "source": [
    "## Question 2\n",
    "\n",
    "Explore the `train_df` and `test_df` *dataframes*.  \n",
    "\n",
    "* a) Display the first 10 rows of the `train_df` *dataframe*.\n",
    "* b) Display the first 10 rows of the `test_df` *dataframe*.\n",
    "* c) Use the `describe` *function* to calculate basic statistics (mean, median, and mode) for the `train_df` *dataframe*.\n",
    "* d) Use the `describe` *function* to calculate basic statistics (mean, median, and mode) for the `test_df` *dataframe*."
   ]
  },
  {
   "cell_type": "code",
   "execution_count": 2,
   "id": "5a078c12",
   "metadata": {
    "id": "5a078c12"
   },
   "outputs": [
    {
     "data": {
      "text/html": [
       "<div>\n",
       "<style scoped>\n",
       "    .dataframe tbody tr th:only-of-type {\n",
       "        vertical-align: middle;\n",
       "    }\n",
       "\n",
       "    .dataframe tbody tr th {\n",
       "        vertical-align: top;\n",
       "    }\n",
       "\n",
       "    .dataframe thead th {\n",
       "        text-align: right;\n",
       "    }\n",
       "</style>\n",
       "<table border=\"1\" class=\"dataframe\">\n",
       "  <thead>\n",
       "    <tr style=\"text-align: right;\">\n",
       "      <th></th>\n",
       "      <th>PassengerId</th>\n",
       "      <th>Survived</th>\n",
       "      <th>Pclass</th>\n",
       "      <th>Name</th>\n",
       "      <th>Sex</th>\n",
       "      <th>Age</th>\n",
       "      <th>SibSp</th>\n",
       "      <th>Parch</th>\n",
       "      <th>Ticket</th>\n",
       "      <th>Fare</th>\n",
       "      <th>Cabin</th>\n",
       "      <th>Embarked</th>\n",
       "    </tr>\n",
       "  </thead>\n",
       "  <tbody>\n",
       "    <tr>\n",
       "      <th>0</th>\n",
       "      <td>1</td>\n",
       "      <td>0</td>\n",
       "      <td>3</td>\n",
       "      <td>Braund, Mr. Owen Harris</td>\n",
       "      <td>male</td>\n",
       "      <td>22.0</td>\n",
       "      <td>1</td>\n",
       "      <td>0</td>\n",
       "      <td>A/5 21171</td>\n",
       "      <td>7.2500</td>\n",
       "      <td>NaN</td>\n",
       "      <td>S</td>\n",
       "    </tr>\n",
       "    <tr>\n",
       "      <th>1</th>\n",
       "      <td>2</td>\n",
       "      <td>1</td>\n",
       "      <td>1</td>\n",
       "      <td>Cumings, Mrs. John Bradley (Florence Briggs Th...</td>\n",
       "      <td>female</td>\n",
       "      <td>38.0</td>\n",
       "      <td>1</td>\n",
       "      <td>0</td>\n",
       "      <td>PC 17599</td>\n",
       "      <td>71.2833</td>\n",
       "      <td>C85</td>\n",
       "      <td>C</td>\n",
       "    </tr>\n",
       "    <tr>\n",
       "      <th>2</th>\n",
       "      <td>3</td>\n",
       "      <td>1</td>\n",
       "      <td>3</td>\n",
       "      <td>Heikkinen, Miss. Laina</td>\n",
       "      <td>female</td>\n",
       "      <td>26.0</td>\n",
       "      <td>0</td>\n",
       "      <td>0</td>\n",
       "      <td>STON/O2. 3101282</td>\n",
       "      <td>7.9250</td>\n",
       "      <td>NaN</td>\n",
       "      <td>S</td>\n",
       "    </tr>\n",
       "    <tr>\n",
       "      <th>3</th>\n",
       "      <td>4</td>\n",
       "      <td>1</td>\n",
       "      <td>1</td>\n",
       "      <td>Futrelle, Mrs. Jacques Heath (Lily May Peel)</td>\n",
       "      <td>female</td>\n",
       "      <td>35.0</td>\n",
       "      <td>1</td>\n",
       "      <td>0</td>\n",
       "      <td>113803</td>\n",
       "      <td>53.1000</td>\n",
       "      <td>C123</td>\n",
       "      <td>S</td>\n",
       "    </tr>\n",
       "    <tr>\n",
       "      <th>4</th>\n",
       "      <td>5</td>\n",
       "      <td>0</td>\n",
       "      <td>3</td>\n",
       "      <td>Allen, Mr. William Henry</td>\n",
       "      <td>male</td>\n",
       "      <td>35.0</td>\n",
       "      <td>0</td>\n",
       "      <td>0</td>\n",
       "      <td>373450</td>\n",
       "      <td>8.0500</td>\n",
       "      <td>NaN</td>\n",
       "      <td>S</td>\n",
       "    </tr>\n",
       "    <tr>\n",
       "      <th>5</th>\n",
       "      <td>6</td>\n",
       "      <td>0</td>\n",
       "      <td>3</td>\n",
       "      <td>Moran, Mr. James</td>\n",
       "      <td>male</td>\n",
       "      <td>NaN</td>\n",
       "      <td>0</td>\n",
       "      <td>0</td>\n",
       "      <td>330877</td>\n",
       "      <td>8.4583</td>\n",
       "      <td>NaN</td>\n",
       "      <td>Q</td>\n",
       "    </tr>\n",
       "    <tr>\n",
       "      <th>6</th>\n",
       "      <td>7</td>\n",
       "      <td>0</td>\n",
       "      <td>1</td>\n",
       "      <td>McCarthy, Mr. Timothy J</td>\n",
       "      <td>male</td>\n",
       "      <td>54.0</td>\n",
       "      <td>0</td>\n",
       "      <td>0</td>\n",
       "      <td>17463</td>\n",
       "      <td>51.8625</td>\n",
       "      <td>E46</td>\n",
       "      <td>S</td>\n",
       "    </tr>\n",
       "    <tr>\n",
       "      <th>7</th>\n",
       "      <td>8</td>\n",
       "      <td>0</td>\n",
       "      <td>3</td>\n",
       "      <td>Palsson, Master. Gosta Leonard</td>\n",
       "      <td>male</td>\n",
       "      <td>2.0</td>\n",
       "      <td>3</td>\n",
       "      <td>1</td>\n",
       "      <td>349909</td>\n",
       "      <td>21.0750</td>\n",
       "      <td>NaN</td>\n",
       "      <td>S</td>\n",
       "    </tr>\n",
       "    <tr>\n",
       "      <th>8</th>\n",
       "      <td>9</td>\n",
       "      <td>1</td>\n",
       "      <td>3</td>\n",
       "      <td>Johnson, Mrs. Oscar W (Elisabeth Vilhelmina Berg)</td>\n",
       "      <td>female</td>\n",
       "      <td>27.0</td>\n",
       "      <td>0</td>\n",
       "      <td>2</td>\n",
       "      <td>347742</td>\n",
       "      <td>11.1333</td>\n",
       "      <td>NaN</td>\n",
       "      <td>S</td>\n",
       "    </tr>\n",
       "    <tr>\n",
       "      <th>9</th>\n",
       "      <td>10</td>\n",
       "      <td>1</td>\n",
       "      <td>2</td>\n",
       "      <td>Nasser, Mrs. Nicholas (Adele Achem)</td>\n",
       "      <td>female</td>\n",
       "      <td>14.0</td>\n",
       "      <td>1</td>\n",
       "      <td>0</td>\n",
       "      <td>237736</td>\n",
       "      <td>30.0708</td>\n",
       "      <td>NaN</td>\n",
       "      <td>C</td>\n",
       "    </tr>\n",
       "  </tbody>\n",
       "</table>\n",
       "</div>"
      ],
      "text/plain": [
       "   PassengerId  Survived  Pclass  \\\n",
       "0            1         0       3   \n",
       "1            2         1       1   \n",
       "2            3         1       3   \n",
       "3            4         1       1   \n",
       "4            5         0       3   \n",
       "5            6         0       3   \n",
       "6            7         0       1   \n",
       "7            8         0       3   \n",
       "8            9         1       3   \n",
       "9           10         1       2   \n",
       "\n",
       "                                                Name     Sex   Age  SibSp  \\\n",
       "0                            Braund, Mr. Owen Harris    male  22.0      1   \n",
       "1  Cumings, Mrs. John Bradley (Florence Briggs Th...  female  38.0      1   \n",
       "2                             Heikkinen, Miss. Laina  female  26.0      0   \n",
       "3       Futrelle, Mrs. Jacques Heath (Lily May Peel)  female  35.0      1   \n",
       "4                           Allen, Mr. William Henry    male  35.0      0   \n",
       "5                                   Moran, Mr. James    male   NaN      0   \n",
       "6                            McCarthy, Mr. Timothy J    male  54.0      0   \n",
       "7                     Palsson, Master. Gosta Leonard    male   2.0      3   \n",
       "8  Johnson, Mrs. Oscar W (Elisabeth Vilhelmina Berg)  female  27.0      0   \n",
       "9                Nasser, Mrs. Nicholas (Adele Achem)  female  14.0      1   \n",
       "\n",
       "   Parch            Ticket     Fare Cabin Embarked  \n",
       "0      0         A/5 21171   7.2500   NaN        S  \n",
       "1      0          PC 17599  71.2833   C85        C  \n",
       "2      0  STON/O2. 3101282   7.9250   NaN        S  \n",
       "3      0            113803  53.1000  C123        S  \n",
       "4      0            373450   8.0500   NaN        S  \n",
       "5      0            330877   8.4583   NaN        Q  \n",
       "6      0             17463  51.8625   E46        S  \n",
       "7      1            349909  21.0750   NaN        S  \n",
       "8      2            347742  11.1333   NaN        S  \n",
       "9      0            237736  30.0708   NaN        C  "
      ]
     },
     "execution_count": 2,
     "metadata": {},
     "output_type": "execute_result"
    }
   ],
   "source": [
    "#Question 2a:\n",
    "train_df.head(10)"
   ]
  },
  {
   "cell_type": "code",
   "execution_count": 3,
   "id": "184fcba2",
   "metadata": {
    "id": "184fcba2"
   },
   "outputs": [
    {
     "data": {
      "text/html": [
       "<div>\n",
       "<style scoped>\n",
       "    .dataframe tbody tr th:only-of-type {\n",
       "        vertical-align: middle;\n",
       "    }\n",
       "\n",
       "    .dataframe tbody tr th {\n",
       "        vertical-align: top;\n",
       "    }\n",
       "\n",
       "    .dataframe thead th {\n",
       "        text-align: right;\n",
       "    }\n",
       "</style>\n",
       "<table border=\"1\" class=\"dataframe\">\n",
       "  <thead>\n",
       "    <tr style=\"text-align: right;\">\n",
       "      <th></th>\n",
       "      <th>PassengerId</th>\n",
       "      <th>Pclass</th>\n",
       "      <th>Name</th>\n",
       "      <th>Sex</th>\n",
       "      <th>Age</th>\n",
       "      <th>SibSp</th>\n",
       "      <th>Parch</th>\n",
       "      <th>Ticket</th>\n",
       "      <th>Fare</th>\n",
       "      <th>Cabin</th>\n",
       "      <th>Embarked</th>\n",
       "      <th>Survived</th>\n",
       "    </tr>\n",
       "  </thead>\n",
       "  <tbody>\n",
       "    <tr>\n",
       "      <th>0</th>\n",
       "      <td>892</td>\n",
       "      <td>3</td>\n",
       "      <td>Kelly, Mr. James</td>\n",
       "      <td>male</td>\n",
       "      <td>34.5</td>\n",
       "      <td>0</td>\n",
       "      <td>0</td>\n",
       "      <td>330911</td>\n",
       "      <td>7.8292</td>\n",
       "      <td>NaN</td>\n",
       "      <td>Q</td>\n",
       "      <td>0</td>\n",
       "    </tr>\n",
       "    <tr>\n",
       "      <th>1</th>\n",
       "      <td>893</td>\n",
       "      <td>3</td>\n",
       "      <td>Wilkes, Mrs. James (Ellen Needs)</td>\n",
       "      <td>female</td>\n",
       "      <td>47.0</td>\n",
       "      <td>1</td>\n",
       "      <td>0</td>\n",
       "      <td>363272</td>\n",
       "      <td>7.0000</td>\n",
       "      <td>NaN</td>\n",
       "      <td>S</td>\n",
       "      <td>0</td>\n",
       "    </tr>\n",
       "    <tr>\n",
       "      <th>2</th>\n",
       "      <td>894</td>\n",
       "      <td>2</td>\n",
       "      <td>Myles, Mr. Thomas Francis</td>\n",
       "      <td>male</td>\n",
       "      <td>62.0</td>\n",
       "      <td>0</td>\n",
       "      <td>0</td>\n",
       "      <td>240276</td>\n",
       "      <td>9.6875</td>\n",
       "      <td>NaN</td>\n",
       "      <td>Q</td>\n",
       "      <td>0</td>\n",
       "    </tr>\n",
       "    <tr>\n",
       "      <th>3</th>\n",
       "      <td>895</td>\n",
       "      <td>3</td>\n",
       "      <td>Wirz, Mr. Albert</td>\n",
       "      <td>male</td>\n",
       "      <td>27.0</td>\n",
       "      <td>0</td>\n",
       "      <td>0</td>\n",
       "      <td>315154</td>\n",
       "      <td>8.6625</td>\n",
       "      <td>NaN</td>\n",
       "      <td>S</td>\n",
       "      <td>0</td>\n",
       "    </tr>\n",
       "    <tr>\n",
       "      <th>4</th>\n",
       "      <td>896</td>\n",
       "      <td>3</td>\n",
       "      <td>Hirvonen, Mrs. Alexander (Helga E Lindqvist)</td>\n",
       "      <td>female</td>\n",
       "      <td>22.0</td>\n",
       "      <td>1</td>\n",
       "      <td>1</td>\n",
       "      <td>3101298</td>\n",
       "      <td>12.2875</td>\n",
       "      <td>NaN</td>\n",
       "      <td>S</td>\n",
       "      <td>1</td>\n",
       "    </tr>\n",
       "    <tr>\n",
       "      <th>5</th>\n",
       "      <td>897</td>\n",
       "      <td>3</td>\n",
       "      <td>Svensson, Mr. Johan Cervin</td>\n",
       "      <td>male</td>\n",
       "      <td>14.0</td>\n",
       "      <td>0</td>\n",
       "      <td>0</td>\n",
       "      <td>7538</td>\n",
       "      <td>9.2250</td>\n",
       "      <td>NaN</td>\n",
       "      <td>S</td>\n",
       "      <td>0</td>\n",
       "    </tr>\n",
       "    <tr>\n",
       "      <th>6</th>\n",
       "      <td>898</td>\n",
       "      <td>3</td>\n",
       "      <td>Connolly, Miss. Kate</td>\n",
       "      <td>female</td>\n",
       "      <td>30.0</td>\n",
       "      <td>0</td>\n",
       "      <td>0</td>\n",
       "      <td>330972</td>\n",
       "      <td>7.6292</td>\n",
       "      <td>NaN</td>\n",
       "      <td>Q</td>\n",
       "      <td>1</td>\n",
       "    </tr>\n",
       "    <tr>\n",
       "      <th>7</th>\n",
       "      <td>899</td>\n",
       "      <td>2</td>\n",
       "      <td>Caldwell, Mr. Albert Francis</td>\n",
       "      <td>male</td>\n",
       "      <td>26.0</td>\n",
       "      <td>1</td>\n",
       "      <td>1</td>\n",
       "      <td>248738</td>\n",
       "      <td>29.0000</td>\n",
       "      <td>NaN</td>\n",
       "      <td>S</td>\n",
       "      <td>0</td>\n",
       "    </tr>\n",
       "    <tr>\n",
       "      <th>8</th>\n",
       "      <td>900</td>\n",
       "      <td>3</td>\n",
       "      <td>Abrahim, Mrs. Joseph (Sophie Halaut Easu)</td>\n",
       "      <td>female</td>\n",
       "      <td>18.0</td>\n",
       "      <td>0</td>\n",
       "      <td>0</td>\n",
       "      <td>2657</td>\n",
       "      <td>7.2292</td>\n",
       "      <td>NaN</td>\n",
       "      <td>C</td>\n",
       "      <td>1</td>\n",
       "    </tr>\n",
       "    <tr>\n",
       "      <th>9</th>\n",
       "      <td>901</td>\n",
       "      <td>3</td>\n",
       "      <td>Davies, Mr. John Samuel</td>\n",
       "      <td>male</td>\n",
       "      <td>21.0</td>\n",
       "      <td>2</td>\n",
       "      <td>0</td>\n",
       "      <td>A/4 48871</td>\n",
       "      <td>24.1500</td>\n",
       "      <td>NaN</td>\n",
       "      <td>S</td>\n",
       "      <td>0</td>\n",
       "    </tr>\n",
       "  </tbody>\n",
       "</table>\n",
       "</div>"
      ],
      "text/plain": [
       "   PassengerId  Pclass                                          Name     Sex  \\\n",
       "0          892       3                              Kelly, Mr. James    male   \n",
       "1          893       3              Wilkes, Mrs. James (Ellen Needs)  female   \n",
       "2          894       2                     Myles, Mr. Thomas Francis    male   \n",
       "3          895       3                              Wirz, Mr. Albert    male   \n",
       "4          896       3  Hirvonen, Mrs. Alexander (Helga E Lindqvist)  female   \n",
       "5          897       3                    Svensson, Mr. Johan Cervin    male   \n",
       "6          898       3                          Connolly, Miss. Kate  female   \n",
       "7          899       2                  Caldwell, Mr. Albert Francis    male   \n",
       "8          900       3     Abrahim, Mrs. Joseph (Sophie Halaut Easu)  female   \n",
       "9          901       3                       Davies, Mr. John Samuel    male   \n",
       "\n",
       "    Age  SibSp  Parch     Ticket     Fare Cabin Embarked  Survived  \n",
       "0  34.5      0      0     330911   7.8292   NaN        Q         0  \n",
       "1  47.0      1      0     363272   7.0000   NaN        S         0  \n",
       "2  62.0      0      0     240276   9.6875   NaN        Q         0  \n",
       "3  27.0      0      0     315154   8.6625   NaN        S         0  \n",
       "4  22.0      1      1    3101298  12.2875   NaN        S         1  \n",
       "5  14.0      0      0       7538   9.2250   NaN        S         0  \n",
       "6  30.0      0      0     330972   7.6292   NaN        Q         1  \n",
       "7  26.0      1      1     248738  29.0000   NaN        S         0  \n",
       "8  18.0      0      0       2657   7.2292   NaN        C         1  \n",
       "9  21.0      2      0  A/4 48871  24.1500   NaN        S         0  "
      ]
     },
     "execution_count": 3,
     "metadata": {},
     "output_type": "execute_result"
    }
   ],
   "source": [
    "#Question 2b: \n",
    "test_df.head(10)"
   ]
  },
  {
   "cell_type": "code",
   "execution_count": 4,
   "id": "697d2eae",
   "metadata": {
    "id": "697d2eae"
   },
   "outputs": [
    {
     "data": {
      "text/html": [
       "<div>\n",
       "<style scoped>\n",
       "    .dataframe tbody tr th:only-of-type {\n",
       "        vertical-align: middle;\n",
       "    }\n",
       "\n",
       "    .dataframe tbody tr th {\n",
       "        vertical-align: top;\n",
       "    }\n",
       "\n",
       "    .dataframe thead th {\n",
       "        text-align: right;\n",
       "    }\n",
       "</style>\n",
       "<table border=\"1\" class=\"dataframe\">\n",
       "  <thead>\n",
       "    <tr style=\"text-align: right;\">\n",
       "      <th></th>\n",
       "      <th>PassengerId</th>\n",
       "      <th>Survived</th>\n",
       "      <th>Pclass</th>\n",
       "      <th>Age</th>\n",
       "      <th>SibSp</th>\n",
       "      <th>Parch</th>\n",
       "      <th>Fare</th>\n",
       "    </tr>\n",
       "  </thead>\n",
       "  <tbody>\n",
       "    <tr>\n",
       "      <th>count</th>\n",
       "      <td>891.000000</td>\n",
       "      <td>891.000000</td>\n",
       "      <td>891.000000</td>\n",
       "      <td>714.000000</td>\n",
       "      <td>891.000000</td>\n",
       "      <td>891.000000</td>\n",
       "      <td>891.000000</td>\n",
       "    </tr>\n",
       "    <tr>\n",
       "      <th>mean</th>\n",
       "      <td>446.000000</td>\n",
       "      <td>0.383838</td>\n",
       "      <td>2.308642</td>\n",
       "      <td>29.699118</td>\n",
       "      <td>0.523008</td>\n",
       "      <td>0.381594</td>\n",
       "      <td>32.204208</td>\n",
       "    </tr>\n",
       "    <tr>\n",
       "      <th>std</th>\n",
       "      <td>257.353842</td>\n",
       "      <td>0.486592</td>\n",
       "      <td>0.836071</td>\n",
       "      <td>14.526497</td>\n",
       "      <td>1.102743</td>\n",
       "      <td>0.806057</td>\n",
       "      <td>49.693429</td>\n",
       "    </tr>\n",
       "    <tr>\n",
       "      <th>min</th>\n",
       "      <td>1.000000</td>\n",
       "      <td>0.000000</td>\n",
       "      <td>1.000000</td>\n",
       "      <td>0.420000</td>\n",
       "      <td>0.000000</td>\n",
       "      <td>0.000000</td>\n",
       "      <td>0.000000</td>\n",
       "    </tr>\n",
       "    <tr>\n",
       "      <th>25%</th>\n",
       "      <td>223.500000</td>\n",
       "      <td>0.000000</td>\n",
       "      <td>2.000000</td>\n",
       "      <td>20.125000</td>\n",
       "      <td>0.000000</td>\n",
       "      <td>0.000000</td>\n",
       "      <td>7.910400</td>\n",
       "    </tr>\n",
       "    <tr>\n",
       "      <th>50%</th>\n",
       "      <td>446.000000</td>\n",
       "      <td>0.000000</td>\n",
       "      <td>3.000000</td>\n",
       "      <td>28.000000</td>\n",
       "      <td>0.000000</td>\n",
       "      <td>0.000000</td>\n",
       "      <td>14.454200</td>\n",
       "    </tr>\n",
       "    <tr>\n",
       "      <th>75%</th>\n",
       "      <td>668.500000</td>\n",
       "      <td>1.000000</td>\n",
       "      <td>3.000000</td>\n",
       "      <td>38.000000</td>\n",
       "      <td>1.000000</td>\n",
       "      <td>0.000000</td>\n",
       "      <td>31.000000</td>\n",
       "    </tr>\n",
       "    <tr>\n",
       "      <th>max</th>\n",
       "      <td>891.000000</td>\n",
       "      <td>1.000000</td>\n",
       "      <td>3.000000</td>\n",
       "      <td>80.000000</td>\n",
       "      <td>8.000000</td>\n",
       "      <td>6.000000</td>\n",
       "      <td>512.329200</td>\n",
       "    </tr>\n",
       "  </tbody>\n",
       "</table>\n",
       "</div>"
      ],
      "text/plain": [
       "       PassengerId    Survived      Pclass         Age       SibSp  \\\n",
       "count   891.000000  891.000000  891.000000  714.000000  891.000000   \n",
       "mean    446.000000    0.383838    2.308642   29.699118    0.523008   \n",
       "std     257.353842    0.486592    0.836071   14.526497    1.102743   \n",
       "min       1.000000    0.000000    1.000000    0.420000    0.000000   \n",
       "25%     223.500000    0.000000    2.000000   20.125000    0.000000   \n",
       "50%     446.000000    0.000000    3.000000   28.000000    0.000000   \n",
       "75%     668.500000    1.000000    3.000000   38.000000    1.000000   \n",
       "max     891.000000    1.000000    3.000000   80.000000    8.000000   \n",
       "\n",
       "            Parch        Fare  \n",
       "count  891.000000  891.000000  \n",
       "mean     0.381594   32.204208  \n",
       "std      0.806057   49.693429  \n",
       "min      0.000000    0.000000  \n",
       "25%      0.000000    7.910400  \n",
       "50%      0.000000   14.454200  \n",
       "75%      0.000000   31.000000  \n",
       "max      6.000000  512.329200  "
      ]
     },
     "execution_count": 4,
     "metadata": {},
     "output_type": "execute_result"
    }
   ],
   "source": [
    "#Question 2c: \n",
    "train_df.describe()"
   ]
  },
  {
   "cell_type": "code",
   "execution_count": 5,
   "id": "d4f50ad3",
   "metadata": {
    "id": "d4f50ad3"
   },
   "outputs": [
    {
     "data": {
      "text/html": [
       "<div>\n",
       "<style scoped>\n",
       "    .dataframe tbody tr th:only-of-type {\n",
       "        vertical-align: middle;\n",
       "    }\n",
       "\n",
       "    .dataframe tbody tr th {\n",
       "        vertical-align: top;\n",
       "    }\n",
       "\n",
       "    .dataframe thead th {\n",
       "        text-align: right;\n",
       "    }\n",
       "</style>\n",
       "<table border=\"1\" class=\"dataframe\">\n",
       "  <thead>\n",
       "    <tr style=\"text-align: right;\">\n",
       "      <th></th>\n",
       "      <th>PassengerId</th>\n",
       "      <th>Pclass</th>\n",
       "      <th>Age</th>\n",
       "      <th>SibSp</th>\n",
       "      <th>Parch</th>\n",
       "      <th>Fare</th>\n",
       "      <th>Survived</th>\n",
       "    </tr>\n",
       "  </thead>\n",
       "  <tbody>\n",
       "    <tr>\n",
       "      <th>count</th>\n",
       "      <td>418.000000</td>\n",
       "      <td>418.000000</td>\n",
       "      <td>332.000000</td>\n",
       "      <td>418.000000</td>\n",
       "      <td>418.000000</td>\n",
       "      <td>417.000000</td>\n",
       "      <td>418.000000</td>\n",
       "    </tr>\n",
       "    <tr>\n",
       "      <th>mean</th>\n",
       "      <td>1100.500000</td>\n",
       "      <td>2.265550</td>\n",
       "      <td>30.272590</td>\n",
       "      <td>0.447368</td>\n",
       "      <td>0.392344</td>\n",
       "      <td>35.627188</td>\n",
       "      <td>0.366029</td>\n",
       "    </tr>\n",
       "    <tr>\n",
       "      <th>std</th>\n",
       "      <td>120.810458</td>\n",
       "      <td>0.841838</td>\n",
       "      <td>14.181209</td>\n",
       "      <td>0.896760</td>\n",
       "      <td>0.981429</td>\n",
       "      <td>55.907576</td>\n",
       "      <td>0.482295</td>\n",
       "    </tr>\n",
       "    <tr>\n",
       "      <th>min</th>\n",
       "      <td>892.000000</td>\n",
       "      <td>1.000000</td>\n",
       "      <td>0.170000</td>\n",
       "      <td>0.000000</td>\n",
       "      <td>0.000000</td>\n",
       "      <td>0.000000</td>\n",
       "      <td>0.000000</td>\n",
       "    </tr>\n",
       "    <tr>\n",
       "      <th>25%</th>\n",
       "      <td>996.250000</td>\n",
       "      <td>1.000000</td>\n",
       "      <td>21.000000</td>\n",
       "      <td>0.000000</td>\n",
       "      <td>0.000000</td>\n",
       "      <td>7.895800</td>\n",
       "      <td>0.000000</td>\n",
       "    </tr>\n",
       "    <tr>\n",
       "      <th>50%</th>\n",
       "      <td>1100.500000</td>\n",
       "      <td>3.000000</td>\n",
       "      <td>27.000000</td>\n",
       "      <td>0.000000</td>\n",
       "      <td>0.000000</td>\n",
       "      <td>14.454200</td>\n",
       "      <td>0.000000</td>\n",
       "    </tr>\n",
       "    <tr>\n",
       "      <th>75%</th>\n",
       "      <td>1204.750000</td>\n",
       "      <td>3.000000</td>\n",
       "      <td>39.000000</td>\n",
       "      <td>1.000000</td>\n",
       "      <td>0.000000</td>\n",
       "      <td>31.500000</td>\n",
       "      <td>1.000000</td>\n",
       "    </tr>\n",
       "    <tr>\n",
       "      <th>max</th>\n",
       "      <td>1309.000000</td>\n",
       "      <td>3.000000</td>\n",
       "      <td>76.000000</td>\n",
       "      <td>8.000000</td>\n",
       "      <td>9.000000</td>\n",
       "      <td>512.329200</td>\n",
       "      <td>1.000000</td>\n",
       "    </tr>\n",
       "  </tbody>\n",
       "</table>\n",
       "</div>"
      ],
      "text/plain": [
       "       PassengerId      Pclass         Age       SibSp       Parch  \\\n",
       "count   418.000000  418.000000  332.000000  418.000000  418.000000   \n",
       "mean   1100.500000    2.265550   30.272590    0.447368    0.392344   \n",
       "std     120.810458    0.841838   14.181209    0.896760    0.981429   \n",
       "min     892.000000    1.000000    0.170000    0.000000    0.000000   \n",
       "25%     996.250000    1.000000   21.000000    0.000000    0.000000   \n",
       "50%    1100.500000    3.000000   27.000000    0.000000    0.000000   \n",
       "75%    1204.750000    3.000000   39.000000    1.000000    0.000000   \n",
       "max    1309.000000    3.000000   76.000000    8.000000    9.000000   \n",
       "\n",
       "             Fare    Survived  \n",
       "count  417.000000  418.000000  \n",
       "mean    35.627188    0.366029  \n",
       "std     55.907576    0.482295  \n",
       "min      0.000000    0.000000  \n",
       "25%      7.895800    0.000000  \n",
       "50%     14.454200    0.000000  \n",
       "75%     31.500000    1.000000  \n",
       "max    512.329200    1.000000  "
      ]
     },
     "execution_count": 5,
     "metadata": {},
     "output_type": "execute_result"
    }
   ],
   "source": [
    "#Question 2d: \n",
    "test_df.describe()"
   ]
  },
  {
   "cell_type": "markdown",
   "id": "0a39d58d",
   "metadata": {
    "id": "0a39d58d"
   },
   "source": [
    "## Question 3\n",
    "\n",
    "Now you need to do some exploratory data analysis. The first step is to inspect the datasets and look for any missing values. The pandas *dataframe* has a *function* called `isna()` that returns TRUE (1) or FALSE (0) depending on whether the column has missing data or not.\n",
    "\n",
    "* a) Find out how many values are missing for each column in the `train_df` *dataframe*.\n",
    "* b) Find out how many values are missing for each column in the `test_df` *dataframe*.\n",
    "\n",
    "Hint: You can sum all the values returned by the `isna()` *function* to get a count of all the missing values using the following code: `<dataframe>.isna().sum()`"
   ]
  },
  {
   "cell_type": "code",
   "execution_count": 6,
   "id": "7ce31c4e",
   "metadata": {
    "id": "7ce31c4e"
   },
   "outputs": [
    {
     "data": {
      "text/plain": [
       "PassengerId      0\n",
       "Survived         0\n",
       "Pclass           0\n",
       "Name             0\n",
       "Sex              0\n",
       "Age            177\n",
       "SibSp            0\n",
       "Parch            0\n",
       "Ticket           0\n",
       "Fare             0\n",
       "Cabin          687\n",
       "Embarked         2\n",
       "dtype: int64"
      ]
     },
     "execution_count": 6,
     "metadata": {},
     "output_type": "execute_result"
    }
   ],
   "source": [
    "#Question 3a: \n",
    "train_df.isna().sum()"
   ]
  },
  {
   "cell_type": "code",
   "execution_count": 7,
   "id": "63a36d4d",
   "metadata": {
    "id": "63a36d4d"
   },
   "outputs": [
    {
     "data": {
      "text/plain": [
       "PassengerId      0\n",
       "Pclass           0\n",
       "Name             0\n",
       "Sex              0\n",
       "Age             86\n",
       "SibSp            0\n",
       "Parch            0\n",
       "Ticket           0\n",
       "Fare             1\n",
       "Cabin          327\n",
       "Embarked         0\n",
       "Survived         0\n",
       "dtype: int64"
      ]
     },
     "execution_count": 7,
     "metadata": {},
     "output_type": "execute_result"
    }
   ],
   "source": [
    "#Question 3b: \n",
    "test_df.isna().sum()"
   ]
  },
  {
   "cell_type": "markdown",
   "id": "35fbc227",
   "metadata": {
    "id": "35fbc227"
   },
   "source": [
    "## Question 4\n",
    "\n",
    "You don't want to have rows with empty values and you also don't want to discard them, so you will be imputing numeric columns with the data that is missing. Imputing means to assign a value to something by inference. You will be using the average value of the columns with missing data to fill out the empty values.\n",
    "\n",
    "* a) Fill in the missing values of numeric data with the mean for the `train_df` *dataframe*. Verify that numeric columns don't have missing values.\n",
    "* b) Fill in the missing values of numeric data with the mean for the `test_df` *dataframe*. Verify that numeric columns don't have missing values.\n",
    "\n",
    "Hint: See the following *method*: `<dataframe>.fillna(<dataframe>.mean(), inplace=True)`"
   ]
  },
  {
   "cell_type": "code",
   "execution_count": 8,
   "id": "f01d4b70",
   "metadata": {
    "id": "f01d4b70"
   },
   "outputs": [
    {
     "data": {
      "text/plain": [
       "PassengerId      0\n",
       "Survived         0\n",
       "Pclass           0\n",
       "Name             0\n",
       "Sex              0\n",
       "Age              0\n",
       "SibSp            0\n",
       "Parch            0\n",
       "Ticket           0\n",
       "Fare             0\n",
       "Cabin          687\n",
       "Embarked         2\n",
       "dtype: int64"
      ]
     },
     "execution_count": 8,
     "metadata": {},
     "output_type": "execute_result"
    }
   ],
   "source": [
    "#Question 4a:\n",
    "numeric_cols = train_df.select_dtypes(include=['number']).columns\n",
    "train_df[numeric_cols] = train_df[numeric_cols].fillna(train_df[numeric_cols].mean())\n",
    "train_df.isna().sum()"
   ]
  },
  {
   "cell_type": "code",
   "execution_count": 9,
   "id": "04f1bb65",
   "metadata": {
    "id": "04f1bb65"
   },
   "outputs": [
    {
     "data": {
      "text/plain": [
       "PassengerId      0\n",
       "Pclass           0\n",
       "Name             0\n",
       "Sex              0\n",
       "Age              0\n",
       "SibSp            0\n",
       "Parch            0\n",
       "Ticket           0\n",
       "Fare             0\n",
       "Cabin          327\n",
       "Embarked         0\n",
       "Survived         0\n",
       "dtype: int64"
      ]
     },
     "execution_count": 9,
     "metadata": {},
     "output_type": "execute_result"
    }
   ],
   "source": [
    "#Question 4b:\n",
    "test_df[numeric_cols] = test_df[numeric_cols].fillna(test_df[numeric_cols].mean())\n",
    "test_df.isna().sum()"
   ]
  },
  {
   "cell_type": "markdown",
   "id": "c15dddf1",
   "metadata": {
    "id": "c15dddf1"
   },
   "source": [
    "## Question 5\n",
    "\n",
    "Next, you need to drop columns that are not relevant to your model from your *dataframes*.\n",
    "\n",
    "* a) Drop the `Name`, `Ticket`, `Cabin`, `Embarked` columns from the `train_df` *dataframe*.\n",
    "* b) Drop the `Name`, `Ticket`, `Cabin`, `Embarked` columns from the `test_df` *dataframe*."
   ]
  },
  {
   "cell_type": "code",
   "execution_count": 10,
   "id": "38a1028e",
   "metadata": {
    "id": "38a1028e"
   },
   "outputs": [],
   "source": [
    "drop_column_list = ['Name', 'Ticket', 'Cabin', 'Embarked']"
   ]
  },
  {
   "cell_type": "code",
   "execution_count": 11,
   "id": "368b4b7a",
   "metadata": {
    "id": "368b4b7a"
   },
   "outputs": [],
   "source": [
    "#Question 5a: \n",
    "train_df.drop(columns=drop_column_list, inplace=True)"
   ]
  },
  {
   "cell_type": "code",
   "execution_count": 12,
   "id": "708421da",
   "metadata": {
    "id": "708421da"
   },
   "outputs": [],
   "source": [
    "#Question 5b: \n",
    "test_df.drop(columns=drop_column_list, inplace=True)"
   ]
  },
  {
   "cell_type": "markdown",
   "id": "9676172e",
   "metadata": {
    "id": "9676172e"
   },
   "source": [
    "## Question 6\n",
    "\n",
    "The `Sex` column is not numeric, but it has the distinct values of `male` and `female`. The code below uses the `LabelEncoder`  *function* from Scikit-learn to encode the `Sex` column into a numeric column:"
   ]
  },
  {
   "cell_type": "code",
   "execution_count": 13,
   "id": "b13e108d",
   "metadata": {
    "id": "b13e108d"
   },
   "outputs": [],
   "source": [
    "from sklearn.preprocessing import LabelEncoder\n",
    "\n",
    "labelEncoder = LabelEncoder()\n",
    "labelEncoder.fit(train_df['Sex'])\n",
    "## 0 if female - 1 is male - see labelEncoder.classes_\n",
    "train_df['Sex'] = labelEncoder.transform(train_df['Sex'])"
   ]
  },
  {
   "cell_type": "markdown",
   "id": "755a8c57",
   "metadata": {
    "id": "755a8c57"
   },
   "source": [
    "Now, encode the `Sex` column in the `test_df` *dataframe*:"
   ]
  },
  {
   "cell_type": "code",
   "execution_count": 14,
   "id": "359c7f6b",
   "metadata": {
    "id": "359c7f6b"
   },
   "outputs": [],
   "source": [
    "#Question 6: \n",
    "labelEncoder = LabelEncoder()\n",
    "labelEncoder.fit(test_df['Sex'])\n",
    "## 0 if female - 1 is male - see labelEncoder.classes_\n",
    "test_df['Sex'] = labelEncoder.transform(test_df['Sex'])"
   ]
  },
  {
   "cell_type": "markdown",
   "id": "8691f854",
   "metadata": {
    "id": "8691f854"
   },
   "source": [
    "## Question 7\n",
    "\n",
    "Your data is almost ready for modeling. Create the following *arrays* to prepare your data for modeling:\n",
    "\n",
    "* a) Create a NumPy *array* with all the values from the `train_df` *dataframe* except for the `Survived` column and call it `X_train`.\n",
    "* b) Create a NumPy *array* with all the values from the `test_df` *dataframe* except for the `Survived` column and call it `X_test`.\n",
    "* c) Create a NumPy *array* with only the `Survived` column from the `train_df` *dataframe* and call it `y_train`.\n",
    "* d) Create a NumPy *array* with only the `Survived` column from the `test_df` *dataframe* and call it `y_test`."
   ]
  },
  {
   "cell_type": "code",
   "execution_count": 15,
   "id": "c94d344c",
   "metadata": {
    "id": "c94d344c"
   },
   "outputs": [],
   "source": [
    "#Question 7a: \n",
    "\n",
    "X_train = train_df.drop(columns=['Survived']).to_numpy()"
   ]
  },
  {
   "cell_type": "code",
   "execution_count": 16,
   "id": "0df8910e",
   "metadata": {
    "id": "0df8910e"
   },
   "outputs": [],
   "source": [
    "#Question 7b: \n",
    "\n",
    "X_test = test_df.drop(columns=['Survived']).to_numpy()"
   ]
  },
  {
   "cell_type": "code",
   "execution_count": 17,
   "id": "80df6075",
   "metadata": {
    "id": "80df6075"
   },
   "outputs": [],
   "source": [
    "#Question 7c: \n",
    "\n",
    "y_train = train_df['Survived'].to_numpy()"
   ]
  },
  {
   "cell_type": "code",
   "execution_count": 18,
   "id": "83b4f0f7",
   "metadata": {
    "id": "83b4f0f7"
   },
   "outputs": [
    {
     "name": "stdout",
     "output_type": "stream",
     "text": [
      "<class 'numpy.ndarray'>\n"
     ]
    }
   ],
   "source": [
    "#Question 7d: \n",
    "\n",
    "y_test = test_df['Survived'].to_numpy()\n",
    "print(type(y_test))"
   ]
  },
  {
   "cell_type": "markdown",
   "id": "9ee6d547",
   "metadata": {
    "id": "9ee6d547"
   },
   "source": [
    "## Question 8\n",
    "\n",
    "Now you will build the k-means model. Determine how many *clusters* you think you should use for this problem. Modify the code below with the correct number of *clusters* for your model.\n"
   ]
  },
  {
   "cell_type": "code",
   "execution_count": 19,
   "id": "b10e9d81",
   "metadata": {
    "id": "b10e9d81"
   },
   "outputs": [
    {
     "name": "stderr",
     "output_type": "stream",
     "text": [
      "C:\\Users\\markg\\anaconda3\\Lib\\site-packages\\sklearn\\cluster\\_kmeans.py:870: FutureWarning: The default value of `n_init` will change from 10 to 'auto' in 1.4. Set the value of `n_init` explicitly to suppress the warning\n",
      "  warnings.warn(\n",
      "C:\\Users\\markg\\anaconda3\\Lib\\site-packages\\sklearn\\cluster\\_kmeans.py:1382: UserWarning: KMeans is known to have a memory leak on Windows with MKL, when there are less chunks than available threads. You can avoid it by setting the environment variable OMP_NUM_THREADS=4.\n",
      "  warnings.warn(\n"
     ]
    },
    {
     "data": {
      "text/html": [
       "<style>#sk-container-id-1 {color: black;background-color: white;}#sk-container-id-1 pre{padding: 0;}#sk-container-id-1 div.sk-toggleable {background-color: white;}#sk-container-id-1 label.sk-toggleable__label {cursor: pointer;display: block;width: 100%;margin-bottom: 0;padding: 0.3em;box-sizing: border-box;text-align: center;}#sk-container-id-1 label.sk-toggleable__label-arrow:before {content: \"▸\";float: left;margin-right: 0.25em;color: #696969;}#sk-container-id-1 label.sk-toggleable__label-arrow:hover:before {color: black;}#sk-container-id-1 div.sk-estimator:hover label.sk-toggleable__label-arrow:before {color: black;}#sk-container-id-1 div.sk-toggleable__content {max-height: 0;max-width: 0;overflow: hidden;text-align: left;background-color: #f0f8ff;}#sk-container-id-1 div.sk-toggleable__content pre {margin: 0.2em;color: black;border-radius: 0.25em;background-color: #f0f8ff;}#sk-container-id-1 input.sk-toggleable__control:checked~div.sk-toggleable__content {max-height: 200px;max-width: 100%;overflow: auto;}#sk-container-id-1 input.sk-toggleable__control:checked~label.sk-toggleable__label-arrow:before {content: \"▾\";}#sk-container-id-1 div.sk-estimator input.sk-toggleable__control:checked~label.sk-toggleable__label {background-color: #d4ebff;}#sk-container-id-1 div.sk-label input.sk-toggleable__control:checked~label.sk-toggleable__label {background-color: #d4ebff;}#sk-container-id-1 input.sk-hidden--visually {border: 0;clip: rect(1px 1px 1px 1px);clip: rect(1px, 1px, 1px, 1px);height: 1px;margin: -1px;overflow: hidden;padding: 0;position: absolute;width: 1px;}#sk-container-id-1 div.sk-estimator {font-family: monospace;background-color: #f0f8ff;border: 1px dotted black;border-radius: 0.25em;box-sizing: border-box;margin-bottom: 0.5em;}#sk-container-id-1 div.sk-estimator:hover {background-color: #d4ebff;}#sk-container-id-1 div.sk-parallel-item::after {content: \"\";width: 100%;border-bottom: 1px solid gray;flex-grow: 1;}#sk-container-id-1 div.sk-label:hover label.sk-toggleable__label {background-color: #d4ebff;}#sk-container-id-1 div.sk-serial::before {content: \"\";position: absolute;border-left: 1px solid gray;box-sizing: border-box;top: 0;bottom: 0;left: 50%;z-index: 0;}#sk-container-id-1 div.sk-serial {display: flex;flex-direction: column;align-items: center;background-color: white;padding-right: 0.2em;padding-left: 0.2em;position: relative;}#sk-container-id-1 div.sk-item {position: relative;z-index: 1;}#sk-container-id-1 div.sk-parallel {display: flex;align-items: stretch;justify-content: center;background-color: white;position: relative;}#sk-container-id-1 div.sk-item::before, #sk-container-id-1 div.sk-parallel-item::before {content: \"\";position: absolute;border-left: 1px solid gray;box-sizing: border-box;top: 0;bottom: 0;left: 50%;z-index: -1;}#sk-container-id-1 div.sk-parallel-item {display: flex;flex-direction: column;z-index: 1;position: relative;background-color: white;}#sk-container-id-1 div.sk-parallel-item:first-child::after {align-self: flex-end;width: 50%;}#sk-container-id-1 div.sk-parallel-item:last-child::after {align-self: flex-start;width: 50%;}#sk-container-id-1 div.sk-parallel-item:only-child::after {width: 0;}#sk-container-id-1 div.sk-dashed-wrapped {border: 1px dashed gray;margin: 0 0.4em 0.5em 0.4em;box-sizing: border-box;padding-bottom: 0.4em;background-color: white;}#sk-container-id-1 div.sk-label label {font-family: monospace;font-weight: bold;display: inline-block;line-height: 1.2em;}#sk-container-id-1 div.sk-label-container {text-align: center;}#sk-container-id-1 div.sk-container {/* jupyter's `normalize.less` sets `[hidden] { display: none; }` but bootstrap.min.css set `[hidden] { display: none !important; }` so we also need the `!important` here to be able to override the default hidden behavior on the sphinx rendered scikit-learn.org. See: https://github.com/scikit-learn/scikit-learn/issues/21755 */display: inline-block !important;position: relative;}#sk-container-id-1 div.sk-text-repr-fallback {display: none;}</style><div id=\"sk-container-id-1\" class=\"sk-top-container\"><div class=\"sk-text-repr-fallback\"><pre>KMeans(n_clusters=2)</pre><b>In a Jupyter environment, please rerun this cell to show the HTML representation or trust the notebook. <br />On GitHub, the HTML representation is unable to render, please try loading this page with nbviewer.org.</b></div><div class=\"sk-container\" hidden><div class=\"sk-item\"><div class=\"sk-estimator sk-toggleable\"><input class=\"sk-toggleable__control sk-hidden--visually\" id=\"sk-estimator-id-1\" type=\"checkbox\" checked><label for=\"sk-estimator-id-1\" class=\"sk-toggleable__label sk-toggleable__label-arrow\">KMeans</label><div class=\"sk-toggleable__content\"><pre>KMeans(n_clusters=2)</pre></div></div></div></div></div>"
      ],
      "text/plain": [
       "KMeans(n_clusters=2)"
      ]
     },
     "execution_count": 19,
     "metadata": {},
     "output_type": "execute_result"
    }
   ],
   "source": [
    "#Question 8: \n",
    "\n",
    "from sklearn.cluster import KMeans\n",
    "\n",
    "number_of_clusters = 2\n",
    "kmeans = KMeans(n_clusters=number_of_clusters)\n",
    "kmeans.fit(X_train)\n"
   ]
  },
  {
   "cell_type": "markdown",
   "id": "a85a6ce2",
   "metadata": {
    "id": "a85a6ce2"
   },
   "source": [
    "## Question 9\n",
    "\n",
    "Next, feed your model the unseen `X_test` data and determine how well the model does in predicting if a passenger survived or not. Assign the values returned by the model to `y_pred`. Complete the code below to feed the `X_test` data to the model. Assign the value to `y_pred`.\n",
    "\n",
    "Hint: Call the following *function*: `kmeans.predict(<nparray>).`"
   ]
  },
  {
   "cell_type": "code",
   "execution_count": 20,
   "id": "8981c141",
   "metadata": {
    "id": "8981c141"
   },
   "outputs": [],
   "source": [
    "#Question 9:\n",
    "\n",
    "y_pred = kmeans.predict(X_test)"
   ]
  },
  {
   "cell_type": "markdown",
   "id": "a553ed1b",
   "metadata": {
    "id": "a553ed1b"
   },
   "source": [
    "## Question 10\n",
    "\n",
    "How well does your model predict if a passenger survived when you feed the unseen `X_test` data to the model? Complete the code below to compute how well your model predicts passenger survival based on the `X_test` data:"
   ]
  },
  {
   "cell_type": "code",
   "execution_count": 21,
   "id": "42ee6121",
   "metadata": {
    "id": "42ee6121"
   },
   "outputs": [
    {
     "name": "stdout",
     "output_type": "stream",
     "text": [
      "0.3660287081339713\n"
     ]
    }
   ],
   "source": [
    "#Question 10:\n",
    "\n",
    "correct = 0\n",
    "for i in  range(len(y_pred)):\n",
    "    if y_pred[i] == y_test[i]:\n",
    "        correct += 1\n",
    "        \n",
    "print(correct/len(X_test))"
   ]
  },
  {
   "cell_type": "markdown",
   "id": "bc632f7a",
   "metadata": {
    "id": "bc632f7a"
   },
   "source": [
    "## Question 11\n",
    "\n",
    "Research the k-means algorithm and see if you can adjust the parameters passed to the model so that you can obtain better precision. Are there any other modifications you can make to the data or to the model to improve performance? \n",
    "\n",
    "Question 11a: Make improvements to the k-means algorithm to obtain better precision and improve performance and show your work in the Markdown cell below.\n",
    "\n",
    "Question 11b. Describe the improvements you made to the model in the Markdown cell below. This is an open-ended question and requires a written response."
   ]
  },
  {
   "cell_type": "code",
   "execution_count": 22,
   "id": "9a610a8c",
   "metadata": {
    "id": "9a610a8c"
   },
   "outputs": [
    {
     "name": "stdout",
     "output_type": "stream",
     "text": [
      "0.6339712918660287\n"
     ]
    },
    {
     "name": "stderr",
     "output_type": "stream",
     "text": [
      "C:\\Users\\markg\\anaconda3\\Lib\\site-packages\\sklearn\\cluster\\_kmeans.py:870: FutureWarning: The default value of `n_init` will change from 10 to 'auto' in 1.4. Set the value of `n_init` explicitly to suppress the warning\n",
      "  warnings.warn(\n",
      "C:\\Users\\markg\\anaconda3\\Lib\\site-packages\\sklearn\\cluster\\_kmeans.py:1382: UserWarning: KMeans is known to have a memory leak on Windows with MKL, when there are less chunks than available threads. You can avoid it by setting the environment variable OMP_NUM_THREADS=4.\n",
      "  warnings.warn(\n"
     ]
    }
   ],
   "source": [
    "#Question 11a:\n",
    "n_clusters = 2\n",
    "\n",
    "kmeans = KMeans(n_clusters=n_clusters, max_iter=10000)\n",
    "kmeans.fit(X_train)\n",
    "y_pred = kmeans.predict(X_test)\n",
    "\n",
    "correct = 0\n",
    "for i in  range(len(y_pred)):\n",
    "    if y_pred[i] == y_test[i]:\n",
    "        correct += 1\n",
    "        \n",
    "print(correct/len(X_test))\n"
   ]
  },
  {
   "cell_type": "markdown",
   "id": "3db37dbc-b7c9-4017-aade-bfe5a40ea89e",
   "metadata": {
    "id": "3f97e0c5"
   },
   "source": [
    "#Question 11b: \n",
    "\n",
    "I increased the number of iterations the algorithm would go through to 10,000 but the precision was not increased.\n",
    "Women and children were allowed on lifeboats first when the Titanic was evacuated.\n",
    "Altering the dataset or altering the algorithm so that woman and children result in a reward and men result in a penalty might increase the accuracy of prediciton."
   ]
  },
  {
   "cell_type": "markdown",
   "id": "703cc403",
   "metadata": {
    "id": "703cc403"
   },
   "source": [
    "## Part 2: Reinforcement Learning Algorithm\n",
    "\n",
    "For this part of the assignment, you need to teach a robot to navigate a building that contains 15 rooms. The figure below shows the layout of the rooms in the building."
   ]
  },
  {
   "attachments": {
    "finalAssignmentImg.png": {
     "image/png": "[encoded data removed]"
    }
   },
   "cell_type": "markdown",
   "id": "b2ad405a",
   "metadata": {},
   "source": [
    "![finalAssignmentImg.png](attachment:finalAssignmentImg.png)"
   ]
  },
  {
   "cell_type": "markdown",
   "id": "f56d9caf",
   "metadata": {
    "id": "f56d9caf"
   },
   "source": [
    "## Question 12\n",
    "\n",
    "Create a rewards matrix to capture the layout of the rooms. Store the rewards matrix in a variable titled `rewards`."
   ]
  },
  {
   "cell_type": "code",
   "execution_count": 23,
   "id": "9e2af714",
   "metadata": {
    "id": "9e2af714"
   },
   "outputs": [],
   "source": [
    "#Question 12:\n",
    "\n",
    "rewards = [[0,1,0,0,0,0,0,0,0,0,0,0,0,0,0],\n",
    "[1,0,0,0,0,0,1,0,0,0,0,0,0,0,0],\n",
    "[0,0,0,1,0,0,0,1,0,0,0,0,0,0,0],\n",
    "[0,0,1,0,0,0,0,0,0,0,0,0,0,0,0],\n",
    "[0,0,0,0,0,0,0,0,0,1,0,0,0,0,0],\n",
    "[0,0,0,0,0,0,0,0,0,0,1,0,0,0,0],\n",
    "[0,1,0,0,0,0,0,0,0,0,0,1,0,0,0],\n",
    "[0,0,1,0,0,0,0,0,0,0,0,0,1,0,0],\n",
    "[0,0,0,0,0,0,0,0,0,0,0,0,0,1,0],\n",
    "[0,0,0,0,1,0,0,0,0,0,0,0,0,0,1],\n",
    "[0,0,0,0,0,1,0,0,0,0,0,1,0,0,0],\n",
    "[0,0,0,0,0,0,1,0,0,0,1,0,1,0,0],\n",
    "[0,0,0,0,0,0,0,1,0,0,0,1,0,1,0],\n",
    "[0,0,0,0,0,0,0,0,1,0,0,0,1,0,1],\n",
    "[0,0,0,0,0,0,0,0,0,1,0,0,0,1,0]]"
   ]
  },
  {
   "cell_type": "markdown",
   "id": "81952c7f",
   "metadata": {
    "id": "81952c7f"
   },
   "source": [
    "## Question 13\n",
    "\n",
    "The `actions` *list* below contains a numeric representation of all 15 rooms in the building. Define the `actions` *list* that contains all of the numbers from 1 to 15."
   ]
  },
  {
   "cell_type": "code",
   "execution_count": 24,
   "id": "a336cfce",
   "metadata": {
    "id": "a336cfce"
   },
   "outputs": [],
   "source": [
    "#Question 13: \n",
    "\n",
    "actions = [1,2,3,4,5,6,7,8,9,10,11,12,13,14,15]"
   ]
  },
  {
   "cell_type": "markdown",
   "id": "f484a954",
   "metadata": {
    "id": "f484a954"
   },
   "source": [
    "## Question 14\n",
    "\n",
    "The `location_to_state` *dictionary* maps a location to a state. Write code to create a *dictionary* with data formatted for `state_to_location` based on the information in the `location_to_state` *dictionary*."
   ]
  },
  {
   "cell_type": "code",
   "execution_count": 25,
   "id": "667f9537",
   "metadata": {
    "id": "667f9537"
   },
   "outputs": [
    {
     "data": {
      "text/plain": [
       "{'L1': 0,\n",
       " 'L2': 1,\n",
       " 'L3': 2,\n",
       " 'L4': 3,\n",
       " 'L5': 4,\n",
       " 'L6': 5,\n",
       " 'L7': 6,\n",
       " 'L8': 7,\n",
       " 'L9': 8,\n",
       " 'L10': 9,\n",
       " 'L11': 10,\n",
       " 'L12': 11,\n",
       " 'L13': 12,\n",
       " 'L14': 13,\n",
       " 'L15': 14}"
      ]
     },
     "execution_count": 25,
     "metadata": {},
     "output_type": "execute_result"
    }
   ],
   "source": [
    "location_to_state = {\n",
    "    'L1': 0,\n",
    "    'L2': 1,\n",
    "    'L3': 2,\n",
    "    'L4': 3,\n",
    "    'L5': 4,\n",
    "    'L6': 5,\n",
    "    'L7': 6,\n",
    "    'L8': 7,\n",
    "    'L9': 8,\n",
    "    'L10': 9,\n",
    "    'L11': 10,\n",
    "    'L12': 11,\n",
    "    'L13': 12,\n",
    "    'L14': 13,\n",
    "    'L15': 14,\n",
    "}\n",
    "\n",
    "location_to_state"
   ]
  },
  {
   "cell_type": "code",
   "execution_count": 26,
   "id": "39c180c2",
   "metadata": {
    "id": "39c180c2"
   },
   "outputs": [
    {
     "data": {
      "text/plain": [
       "{0: 'L1',\n",
       " 1: 'L2',\n",
       " 2: 'L3',\n",
       " 3: 'L4',\n",
       " 4: 'L5',\n",
       " 5: 'L6',\n",
       " 6: 'L7',\n",
       " 7: 'L8',\n",
       " 8: 'L9',\n",
       " 9: 'L10',\n",
       " 10: 'L11',\n",
       " 11: 'L12',\n",
       " 12: 'L13',\n",
       " 13: 'L14',\n",
       " 14: 'L15'}"
      ]
     },
     "execution_count": 26,
     "metadata": {},
     "output_type": "execute_result"
    }
   ],
   "source": [
    "#Question 14: \n",
    "\n",
    "state_to_location = dict((state,location) for location,state in location_to_state.items())\n",
    "\n",
    "state_to_location"
   ]
  },
  {
   "cell_type": "markdown",
   "id": "96d13519",
   "metadata": {
    "id": "96d13519"
   },
   "source": [
    "## Implementing the Bellman Equation\n",
    "\n",
    "For the final question in this assignment, you will be implementing the Bellman equation to help a robot navigate an optimal path through a building. You will begin by initializing the parameters needed for the equation. Then, you will proceed through the code cell below to run the Bellman equation.\n",
    "\n",
    "Once you complete this, you will be asked to evaluate your results with a few questions."
   ]
  },
  {
   "cell_type": "code",
   "execution_count": 27,
   "id": "8fc09d9b",
   "metadata": {
    "id": "8fc09d9b"
   },
   "outputs": [],
   "source": [
    "# Initializing Parameters\n",
    "gamma = 0.75 # Discount factor \n",
    "alpha = 0.9 # Learning rate "
   ]
  },
  {
   "cell_type": "code",
   "execution_count": 28,
   "id": "d60622df",
   "metadata": {
    "id": "d60622df"
   },
   "outputs": [],
   "source": [
    "def get_optimal_route(start_location,end_location):\n",
    "    # Copy the rewards matrix to new matrix.\n",
    "    rewards_new = np.copy(rewards)\n",
    "    \n",
    "    # Get the ending state to correspond to the ending location as given.\n",
    "    ending_state = location_to_state[end_location]\n",
    "    \n",
    "    # Using the above information, automatically set the priority of the given ending \n",
    "    # state to the highest one.\n",
    "    rewards_new[ending_state,ending_state] = 999\n",
    "\n",
    "    # -----------Q-Learning algorithm-----------\n",
    "   \n",
    "    # Initializing Q-Values\n",
    "    Q = np.array(np.zeros([15,15]))\n",
    "\n",
    "    # Q-Learning process\n",
    "    for i in range(1000):\n",
    "        # Select a state randomly.\n",
    "        current_state = np.random.randint(0,15) # Python excludes the upper bound\n",
    "        # Use this function to traverse through the neighbor locations in the maze.\n",
    "        playable_actions = []\n",
    "        # Iterate through the new rewards matrix and get the actions > 0.\n",
    "        for j in range(15):\n",
    "            if rewards_new[current_state,j] > 0:\n",
    "                playable_actions.append(j)\n",
    "        # Pick an action randomly from the list of playable actions  \n",
    "        # leading to the next state.\n",
    "        next_state = np.random.choice(playable_actions)\n",
    "        # Compute the temporal difference.\n",
    "        # The action here specifically refers to going to the next state.\n",
    "        TD = rewards_new[current_state,next_state] + gamma * Q[next_state,np.argmax(Q[next_state,])] - Q[current_state,next_state]\n",
    "        # Update the Q-value using the Bellman equation.\n",
    "        Q[current_state,next_state] += alpha * TD\n",
    "        \n",
    "\n",
    " # Initialize the optimal route with the starting location.\n",
    "    route = [start_location]\n",
    "    # You do not know about the next location yet, so initialize with the value of \n",
    "    # the starting location\n",
    "    next_location = start_location\n",
    "    \n",
    "    # You don't know the exact number of iterations\n",
    "    # needed to reach to the final location, so the while loop will be a good choice \n",
    "    # for iterating.\n",
    "    \n",
    "    while(next_location != end_location):\n",
    "        # Fetch the starting state.\n",
    "        starting_state = location_to_state[start_location]\n",
    "        \n",
    "        # Fetch the highest Q-value pertaining to the starting state.\n",
    "        next_state = np.argmax(Q[starting_state,])\n",
    "        \n",
    "        # You obtained the index of the next state, but you need the corresponding letter. \n",
    "        next_location = state_to_location[next_state]\n",
    "        route.append(next_location)\n",
    "        \n",
    "        # Update the starting location for the next iteration.\n",
    "        start_location = next_location\n",
    "    print(Q)\n",
    "    return route"
   ]
  },
  {
   "cell_type": "markdown",
   "id": "37274b06",
   "metadata": {
    "id": "37274b06"
   },
   "source": [
    "## Question 15\n",
    "\n",
    "Finally, you will run the reinforcement learning algorithm to determine the following information:\n",
    "\n",
    "* a) Find the optimal path from room L1 to L15.\n",
    "* b) Find the optimal path from room L9 to L1.\n",
    "* c) Find the optimal path from room L6 to L1."
   ]
  },
  {
   "cell_type": "code",
   "execution_count": 29,
   "id": "wxfI8s3NKZZQ",
   "metadata": {
    "id": "wxfI8s3NKZZQ"
   },
   "outputs": [
    {
     "name": "stdout",
     "output_type": "stream",
     "text": [
      "[[   0.  713.    0.    0.    0.    0.    0.    0.    0.    0.    0.    0.\n",
      "     0.    0.    0.]\n",
      " [ 535.    0.    0.    0.    0.    0.  949.    0.    0.    0.    0.    0.\n",
      "     0.    0.    0.]\n",
      " [   0.    0.    0.  712.    0.    0.    0. 1262.    0.    0.    0.    0.\n",
      "     0.    0.    0.]\n",
      " [   0.    0.  948.    0.    0.    0.    0.    0.    0.    0.    0.    0.\n",
      "     0.    0.    0.]\n",
      " [   0.    0.    0.    0.    0.    0.    0.    0.    0. 2247.    0.    0.\n",
      "     0.    0.    0.]\n",
      " [   0.    0.    0.    0.    0.    0.    0.    0.    0.    0.  949.    0.\n",
      "     0.    0.    0.]\n",
      " [   0.  713.    0.    0.    0.    0.    0.    0.    0.    0.    0. 1264.\n",
      "     0.    0.    0.]\n",
      " [   0.    0.  948.    0.    0.    0.    0.    0.    0.    0.    0.    0.\n",
      "  1684.    0.    0.]\n",
      " [   0.    0.    0.    0.    0.    0.    0.    0.    0.    0.    0.    0.\n",
      "     0. 2245.    0.]\n",
      " [   0.    0.    0.    0. 1685.    0.    0.    0.    0.    0.    0.    0.\n",
      "     0.    0. 2995.]\n",
      " [   0.    0.    0.    0.    0.  713.    0.    0.    0.    0.    0. 1264.\n",
      "     0.    0.    0.]\n",
      " [   0.    0.    0.    0.    0.    0.  947.    0.    0.    0.  949.    0.\n",
      "  1684.    0.    0.]\n",
      " [   0.    0.    0.    0.    0.    0.    0. 1264.    0.    0.    0. 1264.\n",
      "     0. 2245.    0.]\n",
      " [   0.    0.    0.    0.    0.    0.    0.    0. 1684.    0.    0.    0.\n",
      "  1684.    0. 2991.]\n",
      " [   0.    0.    0.    0.    0.    0.    0.    0.    0. 2247.    0.    0.\n",
      "     0. 2245. 3992.]]\n",
      "['L1', 'L2', 'L7', 'L12', 'L13', 'L14', 'L15']\n"
     ]
    }
   ],
   "source": [
    "#Question 15a: find the optimal route from room L1 to L15\n",
    "np.set_printoptions(precision=0)\n",
    "print(get_optimal_route('L1', 'L15'))"
   ]
  },
  {
   "cell_type": "code",
   "execution_count": 30,
   "id": "qMelLdo0Kjrc",
   "metadata": {
    "id": "qMelLdo0Kjrc"
   },
   "outputs": [
    {
     "name": "stdout",
     "output_type": "stream",
     "text": [
      "[[3996. 2249.    0.    0.    0.    0.    0.    0.    0.    0.    0.    0.\n",
      "     0.    0.    0.]\n",
      " [2998.    0.    0.    0.    0.    0. 1688.    0.    0.    0.    0.    0.\n",
      "     0.    0.    0.]\n",
      " [   0.    0.    0.  403.    0.    0.    0.  714.    0.    0.    0.    0.\n",
      "     0.    0.    0.]\n",
      " [   0.    0.  537.    0.    0.    0.    0.    0.    0.    0.    0.    0.\n",
      "     0.    0.    0.]\n",
      " [   0.    0.    0.    0.    0.    0.    0.    0.    0.  403.    0.    0.\n",
      "     0.    0.    0.]\n",
      " [   0.    0.    0.    0.    0.    0.    0.    0.    0.    0.  951.    0.\n",
      "     0.    0.    0.]\n",
      " [   0. 2249.    0.    0.    0.    0.    0.    0.    0.    0.    0. 1267.\n",
      "     0.    0.    0.]\n",
      " [   0.    0.  537.    0.    0.    0.    0.    0.    0.    0.    0.    0.\n",
      "   951.    0.    0.]\n",
      " [   0.    0.    0.    0.    0.    0.    0.    0.    0.    0.    0.    0.\n",
      "     0.  714.    0.]\n",
      " [   0.    0.    0.    0.  303.    0.    0.    0.    0.    0.    0.    0.\n",
      "     0.    0.  537.]\n",
      " [   0.    0.    0.    0.    0.  714.    0.    0.    0.    0.    0. 1267.\n",
      "     0.    0.    0.]\n",
      " [   0.    0.    0.    0.    0.    0. 1688.    0.    0.    0.  951.    0.\n",
      "   951.    0.    0.]\n",
      " [   0.    0.    0.    0.    0.    0.    0.  714.    0.    0.    0. 1267.\n",
      "     0.  714.    0.]\n",
      " [   0.    0.    0.    0.    0.    0.    0.    0.  536.    0.    0.    0.\n",
      "   951.    0.  536.]\n",
      " [   0.    0.    0.    0.    0.    0.    0.    0.    0.  403.    0.    0.\n",
      "     0.  714.    0.]]\n",
      "['L9', 'L14', 'L13', 'L12', 'L7', 'L2', 'L1']\n"
     ]
    }
   ],
   "source": [
    "#Question 15b: find the optimal route from room L9 to L1\n",
    "np.set_printoptions(precision=0)\n",
    "print(get_optimal_route('L9', 'L1'))"
   ]
  },
  {
   "cell_type": "code",
   "execution_count": 31,
   "id": "0gr4_JoGKj08",
   "metadata": {
    "id": "0gr4_JoGKj08"
   },
   "outputs": [
    {
     "name": "stdout",
     "output_type": "stream",
     "text": [
      "[[3996. 2249.    0.    0.    0.    0.    0.    0.    0.    0.    0.    0.\n",
      "     0.    0.    0.]\n",
      " [2998.    0.    0.    0.    0.    0. 1688.    0.    0.    0.    0.    0.\n",
      "     0.    0.    0.]\n",
      " [   0.    0.    0.  402.    0.    0.    0.  711.    0.    0.    0.    0.\n",
      "     0.    0.    0.]\n",
      " [   0.    0.  534.    0.    0.    0.    0.    0.    0.    0.    0.    0.\n",
      "     0.    0.    0.]\n",
      " [   0.    0.    0.    0.    0.    0.    0.    0.    0.  402.    0.    0.\n",
      "     0.    0.    0.]\n",
      " [   0.    0.    0.    0.    0.    0.    0.    0.    0.    0.  951.    0.\n",
      "     0.    0.    0.]\n",
      " [   0. 2249.    0.    0.    0.    0.    0.    0.    0.    0.    0. 1266.\n",
      "     0.    0.    0.]\n",
      " [   0.    0.  534.    0.    0.    0.    0.    0.    0.    0.    0.    0.\n",
      "   947.    0.    0.]\n",
      " [   0.    0.    0.    0.    0.    0.    0.    0.    0.    0.    0.    0.\n",
      "     0.  714.    0.]\n",
      " [   0.    0.    0.    0.  302.    0.    0.    0.    0.    0.    0.    0.\n",
      "     0.    0.  536.]\n",
      " [   0.    0.    0.    0.    0.  714.    0.    0.    0.    0.    0. 1266.\n",
      "     0.    0.    0.]\n",
      " [   0.    0.    0.    0.    0.    0. 1688.    0.    0.    0.  951.    0.\n",
      "   951.    0.    0.]\n",
      " [   0.    0.    0.    0.    0.    0.    0.  711.    0.    0.    0. 1266.\n",
      "     0.  714.    0.]\n",
      " [   0.    0.    0.    0.    0.    0.    0.    0.  536.    0.    0.    0.\n",
      "   951.    0.  536.]\n",
      " [   0.    0.    0.    0.    0.    0.    0.    0.    0.  402.    0.    0.\n",
      "     0.  714.    0.]]\n",
      "['L6', 'L11', 'L12', 'L7', 'L2', 'L1']\n"
     ]
    }
   ],
   "source": [
    "#Question 15c: find the optimal route from room L6 to L1\n",
    "np.set_printoptions(precision=0)\n",
    "print(get_optimal_route('L6', 'L1'))"
   ]
  },
  {
   "cell_type": "markdown",
   "id": "79207af6",
   "metadata": {
    "id": "79207af6"
   },
   "source": [
    "# Question 16\n",
    "\n",
    "Observe the code for the `get_optimal_route` *function*. Describe in detail the code and the main takeaways you have learned and/or understood in this section of the final assignment.\n",
    "\n",
    "This is an open-ended question and requires a written response."
   ]
  },
  {
   "cell_type": "markdown",
   "id": "0f0dc40e-6f0d-451f-b5a7-073ed192b78c",
   "metadata": {
    "id": "3a4a58d3"
   },
   "source": [
    "A state is picked.\n",
    "\n",
    "The possible actions and their rewards are calculated from actions possible from the current state.\n",
    "\n",
    "A possible action is randomly selected.\n",
    "\n",
    "Temporal difference is used to update the starting rewards to reflect the observed rewards.\n",
    "\n",
    "The algorithm runs 1000 iterations, updating the rewards, to find the optimal routes through the maze.\n",
    "\n",
    "In this section, we learned that the Bellman Equation is a reinforment learning algorithm which utilizes dynamic programming to update a table of rewards which can be used to find optimal solutions by iterating over potential actions enough times."
   ]
  },
  {
   "cell_type": "code",
   "execution_count": null,
   "id": "270c5388-c293-4706-9d74-e7c2cd7cd52d",
   "metadata": {},
   "outputs": [],
   "source": []
  }
 ],
 "metadata": {
  "colab": {
   "collapsed_sections": [],
   "name": "Module21.FinalAssignment-Student.ipynb",
   "provenance": []
  },
  "kernelspec": {
   "display_name": "Python 3 (ipykernel)",
   "language": "python",
   "name": "python3"
  },
  "language_info": {
   "codemirror_mode": {
    "name": "ipython",
    "version": 3
   },
   "file_extension": ".py",
   "mimetype": "text/x-python",
   "name": "python",
   "nbconvert_exporter": "python",
   "pygments_lexer": "ipython3",
   "version": "3.11.7"
  }
 },
 "nbformat": 4,
 "nbformat_minor": 5
}
